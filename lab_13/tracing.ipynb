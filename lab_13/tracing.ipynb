{
 "cells": [
  {
   "attachments": {},
   "cell_type": "markdown",
   "metadata": {},
   "source": [
    "# Подсчет сетевого трафика"
   ]
  },
  {
   "attachments": {},
   "cell_type": "markdown",
   "metadata": {},
   "source": [
    "## Изучим модуль psutil\n",
    "\n",
    "Из документации модуля узнаём про функцию `net_io_counters`:  \n",
    "Функция psutil.net_io_counters() возвращает общесистемную статистику сетевого ввода-вывода в виде именованного кортежа, включающего следующие атрибуты:  \n",
    "\n",
    "* bytes_sent: количество отправленных байтов;\n",
    "* bytes_recv: количество полученных байтов;\n",
    "* packets_sent: количество отправленных пакетов;\n",
    "* packets_recv: количество полученных пакетов;\n",
    "* errin: общее количество ошибок при получении;\n",
    "* errout: общее количество ошибок при отправке;\n",
    "* dropin: общее количество входящих пакетов, которые были отброшены;\n",
    "* dropout: общее количество исходящих пакетов, которые были отброшены "
   ]
  },
  {
   "cell_type": "code",
   "execution_count": 18,
   "metadata": {},
   "outputs": [
    {
     "name": "stdout",
     "output_type": "stream",
     "text": [
      "snetio(bytes_sent=508401113, bytes_recv=9088558316, packets_sent=1895855, packets_recv=7816777, errin=0, errout=0, dropin=34, dropout=0)\n"
     ]
    }
   ],
   "source": [
    "import psutil\n",
    "print(psutil.net_io_counters())"
   ]
  },
  {
   "attachments": {},
   "cell_type": "markdown",
   "metadata": {},
   "source": [
    "Теперь нужно написать код, который будет подсчитывать сам трафик."
   ]
  },
  {
   "cell_type": "code",
   "execution_count": 24,
   "metadata": {},
   "outputs": [
    {
     "name": "stdout",
     "output_type": "stream",
     "text": [
      "Upload: 488.60M   , Download: 8.48G   , Upload Speed: 1.44K/s   , Download Speed: 887.00/s        \r"
     ]
    },
    {
     "ename": "KeyboardInterrupt",
     "evalue": "",
     "output_type": "error",
     "traceback": [
      "\u001b[0;31m---------------------------------------------------------------------------\u001b[0m",
      "\u001b[0;31mKeyboardInterrupt\u001b[0m                         Traceback (most recent call last)",
      "\u001b[0;32m/tmp/ipykernel_99125/3016736448.py\u001b[0m in \u001b[0;36m<module>\u001b[0;34m\u001b[0m\n\u001b[1;32m     16\u001b[0m \u001b[0;34m\u001b[0m\u001b[0m\n\u001b[1;32m     17\u001b[0m \u001b[0;32mwhile\u001b[0m \u001b[0;32mTrue\u001b[0m\u001b[0;34m:\u001b[0m\u001b[0;34m\u001b[0m\u001b[0;34m\u001b[0m\u001b[0m\n\u001b[0;32m---> 18\u001b[0;31m     \u001b[0mtime\u001b[0m\u001b[0;34m.\u001b[0m\u001b[0msleep\u001b[0m\u001b[0;34m(\u001b[0m\u001b[0mUPDATE_DELAY\u001b[0m\u001b[0;34m)\u001b[0m\u001b[0;34m\u001b[0m\u001b[0;34m\u001b[0m\u001b[0m\n\u001b[0m\u001b[1;32m     19\u001b[0m     \u001b[0;31m# get the stats again\u001b[0m\u001b[0;34m\u001b[0m\u001b[0;34m\u001b[0m\u001b[0m\n\u001b[1;32m     20\u001b[0m     \u001b[0mio_2\u001b[0m \u001b[0;34m=\u001b[0m \u001b[0mpsutil\u001b[0m\u001b[0;34m.\u001b[0m\u001b[0mnet_io_counters\u001b[0m\u001b[0;34m(\u001b[0m\u001b[0;34m)\u001b[0m\u001b[0;34m\u001b[0m\u001b[0;34m\u001b[0m\u001b[0m\n",
      "\u001b[0;31mKeyboardInterrupt\u001b[0m: "
     ]
    }
   ],
   "source": [
    "import time\n",
    "UPDATE_DELAY = 1\n",
    "\n",
    "\n",
    "def get_size(bytes):\n",
    "    power_lables = [\"\", \"K\", \"M\", \"G\", \"T\", \"P\", \"Z\"]\n",
    "    power = 1024\n",
    "    i = 0\n",
    "    while bytes > power:\n",
    "        bytes /= 1024\n",
    "        i += 1\n",
    "    return f\"{bytes:.2f}{power_lables[i]}\"\n",
    "\n",
    "# Инициализируем начальные значения\n",
    "io = psutil.net_io_counters()\n",
    "bytes_sent, bytes_recv = io.bytes_sent, io.bytes_recv\n",
    "\n",
    "while True:\n",
    "    time.sleep(UPDATE_DELAY)\n",
    "    # get the stats again\n",
    "    io_2 = psutil.net_io_counters()\n",
    "    us, ds = io_2.bytes_sent - bytes_sent, io_2.bytes_recv - bytes_recv\n",
    "    # print the total download/upload along with current speeds\n",
    "    print(f\"Upload: {get_size(io_2.bytes_sent)}   \"\n",
    "          f\", Download: {get_size(io_2.bytes_recv)}   \"\n",
    "          f\", Upload Speed: {get_size(us / UPDATE_DELAY)}/s   \"\n",
    "          f\", Download Speed: {get_size(ds / UPDATE_DELAY)}/s      \", end=\"\\r\")\n",
    "    # update the bytes_sent and bytes_recv for next iteration\n",
    "    bytes_sent, bytes_recv = io_2.bytes_sent, io_2.bytes_recv"
   ]
  },
  {
   "cell_type": "code",
   "execution_count": null,
   "metadata": {},
   "outputs": [],
   "source": []
  }
 ],
 "metadata": {
  "kernelspec": {
   "display_name": "base",
   "language": "python",
   "name": "python3"
  },
  "language_info": {
   "codemirror_mode": {
    "name": "ipython",
    "version": 3
   },
   "file_extension": ".py",
   "mimetype": "text/x-python",
   "name": "python",
   "nbconvert_exporter": "python",
   "pygments_lexer": "ipython3",
   "version": "3.9.13"
  },
  "orig_nbformat": 4
 },
 "nbformat": 4,
 "nbformat_minor": 2
}
